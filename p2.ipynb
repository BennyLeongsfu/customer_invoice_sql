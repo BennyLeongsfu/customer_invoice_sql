{
 "cells": [
  {
   "cell_type": "code",
   "execution_count": null,
   "id": "5c0e22e4",
   "metadata": {},
   "outputs": [],
   "source": [
    "you have two tables 'invoices' and ' users':\n",
    "- invoices: one row per invoice sent, consists of the following columns:\n",
    "\t- invoice_id: unique invoice identifier\n",
    "\t- user_id: uniquer sender identifier\n",
    "\t- sent_at: datetime invoice was sent\n",
    "\t- amount: invoice amount\n",
    "- users: one row per user. consists of the following columns:\n",
    "\t- user_id: unique user identifier\n",
    "\t- created_at: user create timestamp\n",
    "\t- business_category: business category (e.g. beauty_and_personal_care)\n",
    "\n",
    "Q1: who are the top 5 invoice senders by amount?\n",
    "\n",
    "Q2: what are the total senders, counts of invoice, and amounts sent by business_category?\n",
    "\n",
    "Q3: How many sellers are in the invoices table but not in user table?\n",
    "\n",
    "Q4: How many sellers are in the users table but not in invoices table?\n",
    "\n",
    "Q5: How many users sent more than one invoice?\n",
    "\n",
    "Q6: What are the details of the most recent invoices of each user?\n",
    "\n",
    "Q7: What is the distribution of invoices sent per user? i.e. how many users sent 0,1,2,3...invoices."
   ]
  },
  {
   "cell_type": "code",
   "execution_count": null,
   "id": "169be8cf",
   "metadata": {},
   "outputs": [],
   "source": [
    "#Q1: who are the top 5 invoice senders by amount?"
   ]
  },
  {
   "cell_type": "code",
   "execution_count": null,
   "id": "5bb17163",
   "metadata": {},
   "outputs": [],
   "source": [
    "SELECT *\n",
    "FROM invoices\n",
    "ORDER BY amount DESC\n",
    "LIMIT 5"
   ]
  },
  {
   "cell_type": "code",
   "execution_count": null,
   "id": "4c0d358a",
   "metadata": {},
   "outputs": [],
   "source": [
    "#Q2: what are the total senders, counts of invoice, and amounts sent by business_category?"
   ]
  },
  {
   "cell_type": "code",
   "execution_count": null,
   "id": "18e33794",
   "metadata": {},
   "outputs": [],
   "source": [
    "SELECT COUNT(DISTINCT sub.user_id), COUNT(sub.invoice_id), SUM(sub.amount)\n",
    "FROM(\n",
    "SELECT * FROM invoices AS i\n",
    "OUTER JOIN users AS u\n",
    "ON i.user_id = u.user_id) AS sub"
   ]
  },
  {
   "cell_type": "code",
   "execution_count": null,
   "id": "0b6575d0",
   "metadata": {},
   "outputs": [],
   "source": [
    "SELECT SUM(sub.amount) AS Amount_sent_by_beauty_and_personal_care \n",
    "FROM(\n",
    "SELECT * FROM invoices AS i\n",
    "OUTER JOIN users AS u\n",
    "ON i.user_id = u.user_id) AS sub\n",
    "WHERE sub.business_category = 'beauty_and_personal_care'"
   ]
  },
  {
   "cell_type": "code",
   "execution_count": null,
   "id": "2957d5c6",
   "metadata": {},
   "outputs": [],
   "source": [
    "#Q3: How many sellers are in the invoices table but not in user table?"
   ]
  },
  {
   "cell_type": "code",
   "execution_count": null,
   "id": "5d3612f6",
   "metadata": {},
   "outputs": [],
   "source": [
    "SELECT COUNT(sub.user_id)\n",
    "FROM(\n",
    "SELECT * FROM invoices AS i\n",
    "LEFT JOIN users AS u\n",
    "ON i.user_id = u.user_id\n",
    "WHERE u.user_id IS NULL) AS sub"
   ]
  },
  {
   "cell_type": "code",
   "execution_count": null,
   "id": "a833bdec",
   "metadata": {},
   "outputs": [],
   "source": [
    "#Q4: How many sellers are in the users table but not in invoices table?"
   ]
  },
  {
   "cell_type": "code",
   "execution_count": null,
   "id": "5e4b140e",
   "metadata": {},
   "outputs": [],
   "source": [
    "SELECT COUNT(sub.user_id)\n",
    "FROM(\n",
    "SELECT * FROM invoices AS i\n",
    "RIGHT JOIN users AS u\n",
    "ON i.user_id = u.user_id\n",
    "WHERE i.user_id IS NULL) AS sub"
   ]
  },
  {
   "cell_type": "code",
   "execution_count": null,
   "id": "11793ea3",
   "metadata": {},
   "outputs": [],
   "source": [
    "#Q5: How many users sent more than one invoice?"
   ]
  },
  {
   "cell_type": "code",
   "execution_count": null,
   "id": "c265935e",
   "metadata": {},
   "outputs": [],
   "source": [
    "SELECT *, COUNT(user_id) AS Count\n",
    "FROM invoices\n",
    "GROUP BY user_id\n",
    "HAVING COUNT(*) > 1"
   ]
  },
  {
   "cell_type": "code",
   "execution_count": null,
   "id": "0bfc3a6c",
   "metadata": {},
   "outputs": [],
   "source": [
    "#Q6: What are the details of the most recent invoices of each user?"
   ]
  },
  {
   "cell_type": "code",
   "execution_count": null,
   "id": "3e1a981a",
   "metadata": {},
   "outputs": [],
   "source": [
    "#see who is the most recent\n",
    "SELECT * FROM invoices AS i\n",
    "LEFT JOIN users AS u\n",
    "ON i.user_id = u.user_id\n",
    "\n",
    "ORDER BY sent_at, user_id DESC"
   ]
  },
  {
   "cell_type": "code",
   "execution_count": null,
   "id": "ee493120",
   "metadata": {},
   "outputs": [],
   "source": [
    "#see the most recent amount\n",
    "SELECT * FROM invoices AS i\n",
    "LEFT JOIN users AS u\n",
    "ON i.user_id = u.user_id\n",
    "\n",
    "ORDER BY sent_at, user_id, amount DESC"
   ]
  },
  {
   "cell_type": "code",
   "execution_count": null,
   "id": "75393361",
   "metadata": {},
   "outputs": [],
   "source": [
    "#see the most recent amount of 'beauty_and_personal_care'\n",
    "SELECT * FROM invoices AS i\n",
    "LEFT JOIN users AS u\n",
    "ON i.user_id = u.user_id\n",
    "WHERE u.business_category = 'beauty_and_personal_care'\n",
    "ORDER BY sent_at, user_id, amount  DESC"
   ]
  },
  {
   "cell_type": "code",
   "execution_count": null,
   "id": "c5f0030c",
   "metadata": {},
   "outputs": [],
   "source": [
    "#see the most recent amount of active?\n",
    "SELECT *, (sent_at-created_at) AS active_days FROM invoices AS i\n",
    "LEFT JOIN users AS u\n",
    "ON i.user_id = u.user_id\n",
    "ORDER BY sent_at, user_id, created_at DESC"
   ]
  },
  {
   "cell_type": "code",
   "execution_count": null,
   "id": "dea25b2d",
   "metadata": {},
   "outputs": [],
   "source": [
    "#Q7: What is the distribution of invoices sent per user? i.e. how many users sent 0,1,2,3...invoices."
   ]
  },
  {
   "cell_type": "code",
   "execution_count": null,
   "id": "e1ca1270",
   "metadata": {},
   "outputs": [],
   "source": [
    "#see how many users sent 0,1,2 invoices\n",
    "create table temp AS\n",
    "SELECT Count1 AS Num_of_invoices, COUNT(Count1) AS user_Count, \n",
    "FROM(\n",
    "SELECT user_id, COUNT(user_id) AS Count1 FROM invoices AS i\n",
    "LEFT JOIN users AS u\n",
    "ON i.user_id = u.user_id\n",
    "GROUP BY user_id)\n",
    "GROUP BY Count1\n",
    "\n",
    "\n",
    "SELECT *, user_Count * 100/(SELECT SUM(user_Count) FROM temp) as 'Percentage of Total(%)'\n",
    "FROM temp"
   ]
  },
  {
   "cell_type": "code",
   "execution_count": null,
   "id": "a932c3ca",
   "metadata": {},
   "outputs": [],
   "source": [
    "#see how many users sent 0,1,2 based on business_category\n",
    "create table temp_business_category AS\n",
    "SELECT business_category, COUNT(business_category) AS Count1 FROM invoices\n",
    "LEFT JOIN users AS u\n",
    "ON i.user_id = u.user_id\n",
    "GROUP BY business_category\n",
    "\n",
    "\n",
    "SELECT *, Count1 * 100/(SELECT SUM(Count1) FROM temp1) as 'Percentage of Total(%)'\n",
    "FROM temp_business_category"
   ]
  },
  {
   "cell_type": "code",
   "execution_count": null,
   "id": "429c9598",
   "metadata": {},
   "outputs": [],
   "source": [
    "# based on amount group\n",
    "create table temp_amount AS\n",
    "select t.range as [score range], count(*) as Count1\n",
    "from (\n",
    "      select *,\n",
    "         case when amount >= 0 and amount< 500 then '0-500'\n",
    "         when amount >= 500 and amount< 1000 then '500-1000'\n",
    "         else '1000<=' end as range\n",
    "     from invoices\n",
    "     LEFT JOIN users AS u\n",
    "     ON i.user_id = u.user_id) t\n",
    "group by t.range\n",
    "\n",
    "\n",
    "\n",
    "SELECT *, Count1 * 100/(SELECT SUM(Count1) FROM temp1) as 'Percentage of Total(%)'\n",
    "FROM temp_amount"
   ]
  }
 ],
 "metadata": {
  "kernelspec": {
   "display_name": "Python 3 (ipykernel)",
   "language": "python",
   "name": "python3"
  },
  "language_info": {
   "codemirror_mode": {
    "name": "ipython",
    "version": 3
   },
   "file_extension": ".py",
   "mimetype": "text/x-python",
   "name": "python",
   "nbconvert_exporter": "python",
   "pygments_lexer": "ipython3",
   "version": "3.9.12"
  }
 },
 "nbformat": 4,
 "nbformat_minor": 5
}
